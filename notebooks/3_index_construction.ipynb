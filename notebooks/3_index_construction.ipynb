{
  "cells": [
    {
      "cell_type": "markdown",
      "metadata": {
        "id": "view-in-github",
        "colab_type": "text"
      },
      "source": [
        "<a href=\"https://colab.research.google.com/github/Rongxuan-Zhou/CS6120_project/blob/main/notebooks/3_index_construction.ipynb\" target=\"_parent\"><img src=\"https://colab.research.google.com/assets/colab-badge.svg\" alt=\"Open In Colab\"/></a>"
      ]
    },
    {
      "cell_type": "code",
      "source": [
        "# 1. Environment Setup\n",
        "!pip install -q faiss-cpu sentence-transformers\n",
        "from google.colab import drive\n",
        "drive.mount('/content/drive')\n",
        "\n",
        "import os\n",
        "PROJECT_PATH = \"/content/drive/MyDrive/CS6120_project\"\n",
        "os.chdir(PROJECT_PATH)\n",
        "\n",
        "# GPU detection\n",
        "import torch\n",
        "print(f\"Available GPU: {torch.cuda.is_available()}\")"
      ],
      "metadata": {
        "id": "A9IB4IBR03in",
        "outputId": "9c4fc440-e301-49c5-e8ef-8532b37f2f63",
        "colab": {
          "base_uri": "https://localhost:8080/"
        }
      },
      "execution_count": 1,
      "outputs": [
        {
          "output_type": "stream",
          "name": "stdout",
          "text": [
            "\u001b[2K   \u001b[90m━━━━━━━━━━━━━━━━━━━━━━━━━━━━━━━━━━━━━━━━\u001b[0m \u001b[32m30.7/30.7 MB\u001b[0m \u001b[31m66.0 MB/s\u001b[0m eta \u001b[36m0:00:00\u001b[0m\n",
            "\u001b[2K   \u001b[90m━━━━━━━━━━━━━━━━━━━━━━━━━━━━━━━━━━━━━━━━\u001b[0m \u001b[32m363.4/363.4 MB\u001b[0m \u001b[31m2.3 MB/s\u001b[0m eta \u001b[36m0:00:00\u001b[0m\n",
            "\u001b[2K   \u001b[90m━━━━━━━━━━━━━━━━━━━━━━━━━━━━━━━━━━━━━━━━\u001b[0m \u001b[32m13.8/13.8 MB\u001b[0m \u001b[31m101.7 MB/s\u001b[0m eta \u001b[36m0:00:00\u001b[0m\n",
            "\u001b[2K   \u001b[90m━━━━━━━━━━━━━━━━━━━━━━━━━━━━━━━━━━━━━━━━\u001b[0m \u001b[32m24.6/24.6 MB\u001b[0m \u001b[31m82.4 MB/s\u001b[0m eta \u001b[36m0:00:00\u001b[0m\n",
            "\u001b[2K   \u001b[90m━━━━━━━━━━━━━━━━━━━━━━━━━━━━━━━━━━━━━━━━\u001b[0m \u001b[32m883.7/883.7 kB\u001b[0m \u001b[31m44.6 MB/s\u001b[0m eta \u001b[36m0:00:00\u001b[0m\n",
            "\u001b[2K   \u001b[90m━━━━━━━━━━━━━━━━━━━━━━━━━━━━━━━━━━━━━━━━\u001b[0m \u001b[32m664.8/664.8 MB\u001b[0m \u001b[31m1.6 MB/s\u001b[0m eta \u001b[36m0:00:00\u001b[0m\n",
            "\u001b[2K   \u001b[90m━━━━━━━━━━━━━━━━━━━━━━━━━━━━━━━━━━━━━━━━\u001b[0m \u001b[32m211.5/211.5 MB\u001b[0m \u001b[31m10.2 MB/s\u001b[0m eta \u001b[36m0:00:00\u001b[0m\n",
            "\u001b[2K   \u001b[90m━━━━━━━━━━━━━━━━━━━━━━━━━━━━━━━━━━━━━━━━\u001b[0m \u001b[32m56.3/56.3 MB\u001b[0m \u001b[31m39.4 MB/s\u001b[0m eta \u001b[36m0:00:00\u001b[0m\n",
            "\u001b[2K   \u001b[90m━━━━━━━━━━━━━━━━━━━━━━━━━━━━━━━━━━━━━━━━\u001b[0m \u001b[32m127.9/127.9 MB\u001b[0m \u001b[31m18.5 MB/s\u001b[0m eta \u001b[36m0:00:00\u001b[0m\n",
            "\u001b[2K   \u001b[90m━━━━━━━━━━━━━━━━━━━━━━━━━━━━━━━━━━━━━━━━\u001b[0m \u001b[32m207.5/207.5 MB\u001b[0m \u001b[31m7.8 MB/s\u001b[0m eta \u001b[36m0:00:00\u001b[0m\n",
            "\u001b[2K   \u001b[90m━━━━━━━━━━━━━━━━━━━━━━━━━━━━━━━━━━━━━━━━\u001b[0m \u001b[32m21.1/21.1 MB\u001b[0m \u001b[31m98.4 MB/s\u001b[0m eta \u001b[36m0:00:00\u001b[0m\n",
            "\u001b[?25hMounted at /content/drive\n",
            "Available GPU: True\n"
          ]
        }
      ]
    },
    {
      "cell_type": "code",
      "source": [
        "# 2. Load fine-tuned SBERT model\n",
        "from sentence_transformers import SentenceTransformer\n",
        "\n",
        "model = SentenceTransformer(\"models/sbert_model\")\n",
        "model.to('cuda' if torch.cuda.is_available() else 'cpu')\n",
        "print(\"Model loaded successfully\")"
      ],
      "metadata": {
        "id": "Erf_OkHS05M9",
        "outputId": "2cacacce-13e9-41dc-fa33-8c082e82f843",
        "colab": {
          "base_uri": "https://localhost:8080/"
        }
      },
      "execution_count": 2,
      "outputs": [
        {
          "output_type": "stream",
          "name": "stderr",
          "text": [
            "/usr/local/lib/python3.11/dist-packages/huggingface_hub/utils/_auth.py:94: UserWarning: \n",
            "The secret `HF_TOKEN` does not exist in your Colab secrets.\n",
            "To authenticate with the Hugging Face Hub, create a token in your settings tab (https://huggingface.co/settings/tokens), set it as secret in your Google Colab and restart your session.\n",
            "You will be able to reuse this secret in all of your notebooks.\n",
            "Please note that authentication is recommended but still optional to access public models or datasets.\n",
            "  warnings.warn(\n"
          ]
        },
        {
          "output_type": "stream",
          "name": "stdout",
          "text": [
            "Model loaded successfully\n"
          ]
        }
      ]
    },
    {
      "cell_type": "code",
      "source": [
        "# 3. Build FAISS index (based on src/index_builder.py)\n",
        "import faiss\n",
        "import numpy as np\n",
        "import json\n",
        "from tqdm import tqdm\n",
        "\n",
        "# 清理 GPU 缓存\n",
        "if torch.cuda.is_available():\n",
        "    torch.cuda.empty_cache()\n",
        "\n",
        "# Load data\n",
        "print(\"Loading data...\")\n",
        "with open(\"data/processed/combined.json\") as f:\n",
        "    data = json.load(f)\n",
        "    corpus = data[\"train\"]\n",
        "\n",
        "print(f\"Loaded {len(corpus)} documents\")\n",
        "\n",
        "# Batch encoding\n",
        "print(\"Generating embeddings...\")\n",
        "batch_size = 128\n",
        "embeddings = []\n",
        "for i in tqdm(range(0, len(corpus), batch_size)):\n",
        "    batch = corpus[i:i+batch_size]\n",
        "    emb = model.encode(batch, show_progress_bar=False)\n",
        "    embeddings.append(emb)\n",
        "\n",
        "embeddings = np.vstack(embeddings)\n",
        "dimension = embeddings.shape[1]\n",
        "print(f\"Generated {len(embeddings)} embeddings of dimension {dimension}\")\n",
        "\n",
        "# 归一化向量以便使用内积计算余弦相似度\n",
        "print(\"Normalizing vectors...\")\n",
        "faiss.normalize_L2(embeddings)\n",
        "\n",
        "# Create flat FAISS index (精确搜索)\n",
        "print(\"Building flat index...\")\n",
        "index_flat = faiss.IndexFlatIP(dimension)\n",
        "index_flat.add(embeddings)\n",
        "print(f\"Flat index built with {index_flat.ntotal} vectors\")\n",
        "\n",
        "# 创建 HNSW 索引（更快的检索）\n",
        "print(\"Building HNSW index...\")\n",
        "M = 16  # 每个节点的连接数\n",
        "ef_construction = 200  # 构建时的搜索宽度\n",
        "index_hnsw = faiss.IndexHNSWFlat(dimension, M)\n",
        "index_hnsw.hnsw.efConstruction = ef_construction\n",
        "index_hnsw.add(embeddings)\n",
        "print(f\"HNSW index built with {index_hnsw.ntotal} vectors\")\n",
        "\n",
        "# 创建 IVF-PQ 索引（更小的内存占用）\n",
        "print(\"Building IVF-PQ index...\")\n",
        "nlist = min(100, len(corpus) // 50)  # 聚类中心数，不超过向量总数的 1/50\n",
        "m = 8  # 子向量数\n",
        "bits = 8  # 每个子向量的位数\n",
        "quantizer = faiss.IndexFlatL2(dimension)\n",
        "index_ivfpq = faiss.IndexIVFPQ(quantizer, dimension, nlist, m, bits)\n",
        "index_ivfpq.train(embeddings)\n",
        "index_ivfpq.add(embeddings)\n",
        "print(f\"IVF-PQ index built with {index_ivfpq.ntotal} vectors\")"
      ],
      "metadata": {
        "id": "KS-FLEs115_U",
        "outputId": "aeff4033-0322-40fb-bd6c-78931b2bdfa2",
        "colab": {
          "base_uri": "https://localhost:8080/"
        }
      },
      "execution_count": 5,
      "outputs": [
        {
          "output_type": "stream",
          "name": "stdout",
          "text": [
            "Loading data...\n",
            "Loaded 8800 documents\n",
            "Generating embeddings...\n"
          ]
        },
        {
          "output_type": "stream",
          "name": "stderr",
          "text": [
            "100%|██████████| 69/69 [00:15<00:00,  4.41it/s]\n"
          ]
        },
        {
          "output_type": "stream",
          "name": "stdout",
          "text": [
            "Generated 8800 embeddings of dimension 768\n",
            "Normalizing vectors...\n",
            "Building flat index...\n",
            "Flat index built with 8800 vectors\n",
            "Building HNSW index...\n",
            "HNSW index built with 8800 vectors\n",
            "Building IVF-PQ index...\n",
            "IVF-PQ index built with 8800 vectors\n"
          ]
        }
      ]
    },
    {
      "cell_type": "code",
      "source": [
        "# 4. Test indexes with sample queries\n",
        "test_queries = [\"How does social media affect mental health?\",\n",
        "               \"Best programming languages to learn\",\n",
        "               \"Artificial intelligence applications\"]\n",
        "\n",
        "print(\"Testing indexes with sample queries...\")\n",
        "# 对测试查询进行编码\n",
        "query_embeddings = model.encode(test_queries)\n",
        "\n",
        "# 归一化查询向量\n",
        "faiss.normalize_L2(query_embeddings)\n",
        "\n",
        "# 设置返回结果数量\n",
        "k = 3\n",
        "\n",
        "# Flat 索引搜索（最精确）\n",
        "print(\"\\nFlat index search results:\")\n",
        "D_flat, I_flat = index_flat.search(query_embeddings, k)\n",
        "\n",
        "for i, query in enumerate(test_queries):\n",
        "    print(f\"\\nQuery: {query}\")\n",
        "    for j in range(k):\n",
        "        print(f\"  Match {j+1}: (Score: {D_flat[i][j]:.4f})\")\n",
        "        print(f\"  {corpus[I_flat[i][j]][:100]}...\")\n",
        "\n",
        "# HNSW 索引搜索（快速近似）\n",
        "print(\"\\nHNSW index search results:\")\n",
        "D_hnsw, I_hnsw = index_hnsw.search(query_embeddings, k)\n",
        "\n",
        "# 计算与精确搜索的重合度\n",
        "hnsw_overlap = 0\n",
        "for i in range(len(test_queries)):\n",
        "    overlap = len(set(I_flat[i]) & set(I_hnsw[i]))\n",
        "    hnsw_overlap += overlap / k\n",
        "hnsw_overlap /= len(test_queries)\n",
        "\n",
        "print(f\"HNSW average overlap with flat search: {hnsw_overlap:.2%}\")\n",
        "\n",
        "# IVF-PQ 索引搜索（紧凑型）\n",
        "print(\"\\nIVF-PQ index search results:\")\n",
        "index_ivfpq.nprobe = 10  # 搜索时检查的聚类数量\n",
        "D_ivfpq, I_ivfpq = index_ivfpq.search(query_embeddings, k)\n",
        "\n",
        "# 计算与精确搜索的重合度\n",
        "ivfpq_overlap = 0\n",
        "for i in range(len(test_queries)):\n",
        "    overlap = len(set(I_flat[i]) & set(I_ivfpq[i]))\n",
        "    ivfpq_overlap += overlap / k\n",
        "ivfpq_overlap /= len(test_queries)\n",
        "\n",
        "print(f\"IVF-PQ average overlap with flat search: {ivfpq_overlap:.2%}\")"
      ],
      "metadata": {
        "id": "n0oJ2rDY1-Bz",
        "outputId": "c87ca035-5504-4a17-ea5f-e6ff9ebe11eb",
        "colab": {
          "base_uri": "https://localhost:8080/"
        }
      },
      "execution_count": 6,
      "outputs": [
        {
          "output_type": "stream",
          "name": "stdout",
          "text": [
            "Testing indexes with sample queries...\n",
            "\n",
            "Flat index search results:\n",
            "\n",
            "Query: How does social media affect mental health?\n",
            "  Match 1: (Score: 0.3095)\n",
            "  The Social Cognitive Theory is relevant to health communication. First, the theory deals with cognit...\n",
            "  Match 2: (Score: 0.3061)\n",
            "  Practitioners of magnetic field therapy believe that interactions between the body, the earth, and o...\n",
            "  Match 3: (Score: 0.2737)\n",
            "  Back in March 2010, I wrote a post called Beware of “Who Viewed My Profile” Apps on Facebook. It’s s...\n",
            "\n",
            "Query: Best programming languages to learn\n",
            "  Match 1: (Score: 0.3201)\n",
            "  An integrated development environment (IDE) is a programming environment that has been packaged as a...\n",
            "  Match 2: (Score: 0.3157)\n",
            "  Furthermore, there is no loss of language ability or language learning ability over time. Age is not...\n",
            "  Match 3: (Score: 0.3010)\n",
            "  One of the best pieces of PLC programming software when you want to learn Structured Text is Beckhof...\n",
            "\n",
            "Query: Artificial intelligence applications\n",
            "  Match 1: (Score: 0.2812)\n",
            "  Foreword Smart infrastructure:the future 5 Smart infrastructureprovides the evidencefor informed dec...\n",
            "  Match 2: (Score: 0.2551)\n",
            "  Typically, bots perform tasks that are both simple and structurally repetitive, at a much higher rat...\n",
            "  Match 3: (Score: 0.2533)\n",
            "  Many government agencies use GIS to help in planning and organizing their geographic data. GIS is no...\n",
            "\n",
            "HNSW index search results:\n",
            "HNSW average overlap with flat search: 88.89%\n",
            "\n",
            "IVF-PQ index search results:\n",
            "IVF-PQ average overlap with flat search: 11.11%\n"
          ]
        }
      ]
    },
    {
      "cell_type": "code",
      "source": [
        "# 5. Save indexes\n",
        "print(\"Saving indexes...\")\n",
        "index_dir = os.path.join(PROJECT_PATH, \"models/indexes\")\n",
        "os.makedirs(index_dir, exist_ok=True)\n",
        "\n",
        "# 保存所有索引类型\n",
        "faiss.write_index(index_flat, os.path.join(index_dir, \"flat_index.faiss\"))\n",
        "faiss.write_index(index_hnsw, os.path.join(index_dir, \"hnsw_index.faiss\"))\n",
        "faiss.write_index(index_ivfpq, os.path.join(index_dir, \"ivfpq_index.faiss\"))\n",
        "\n",
        "# 保存文档数据，用于后续检索时显示结果\n",
        "with open(os.path.join(index_dir, \"corpus_texts.json\"), 'w') as f:\n",
        "    json.dump(corpus, f)\n",
        "\n",
        "print(\"All indexes saved successfully\")"
      ],
      "metadata": {
        "id": "sPXV7_462Fza",
        "outputId": "14493f17-4451-4de7-eabb-a1e9c4cd95c4",
        "colab": {
          "base_uri": "https://localhost:8080/"
        }
      },
      "execution_count": 7,
      "outputs": [
        {
          "output_type": "stream",
          "name": "stdout",
          "text": [
            "Saving indexes...\n",
            "All indexes saved successfully\n"
          ]
        }
      ]
    }
  ],
  "metadata": {
    "accelerator": "GPU",
    "colab": {
      "provenance": [],
      "machine_shape": "hm",
      "gpuType": "A100",
      "include_colab_link": true
    },
    "kernelspec": {
      "display_name": "Python 3",
      "name": "python3"
    }
  },
  "nbformat": 4,
  "nbformat_minor": 0
}