{
 "cells": [
  {
   "cell_type": "markdown",
   "metadata": {
    "id": "view-in-github"
   },
   "source": [
    "# Vector Index Construction",
    "Implemented based on src/index_builder.py"
   ]
  },
  {
   "cell_type": "code",
   "execution_count": null,
   "metadata": {
    "id": "initial-setup"
   },
   "outputs": [],
   "source": [
    "# 1. Environment Setup\n",
    "!pip install -q faiss-gpu sentence-transformers\n",
    "from google.colab import drive\n",
    "drive.mount('/content/drive')\n",
    "\n",
    "import os\n",
    "PROJECT_PATH = \"/content/drive/MyDrive/CS6120_project\"\n",
    "os.chdir(PROJECT_PATH)\n",
    "\n",
    "# GPU detection\n",
    "import torch\n",
    "print(f\"Available GPU: {torch.cuda.is_available()}\")"
   ]
  },
  {
   "cell_type": "code",
   "execution_count": null,
   "metadata": {
    "id": "model-loading"
   },
   "outputs": [],
   "source": [
    "# 2. Load fine-tuned SBERT model\n",
    "from sentence_transformers import SentenceTransformer\n",
    "\n",
    "model = SentenceTransformer(\"models/sbert_model\")\n",
    "model.to('cuda' if torch.cuda.is_available() else 'cpu')\n",
    "print(\"Model loaded successfully\")"
   ]
  },
  {
   "cell_type": "code",
   "execution_count": null,
   "metadata": {
    "id": "index-building"
   },
   "outputs": [],
   "source": [
    "# 3. Build FAISS index (based on src/index_builder.py)\n",
    "import faiss\n",
    "import numpy as np\n",
    "from tqdm import tqdm\n",
    "\n",
    "# Load data\n",
    "with open(\"data/processed/combined.json\") as f:\n",
    "    data = json.load(f)[\"train\"]\n",
    "\n",
    "# Batch encoding\n",
    "batch_size = 512\n",
    "embeddings = []\n",
    "for i in tqdm(range(0, len(data), batch_size)):\n",
    "    batch = data[i:i+batch_size]\n",
    "    emb = model.encode(batch, show_progress_bar=False)\n",
    "    embeddings.append(emb)\n",
    "\n",
    "embeddings = np.vstack(embeddings)\n",
    "dimension = embeddings.shape[1]\n",
    "\n",
    "# Create FAISS index\n",
    "index = faiss.IndexFlatIP(dimension)\n",
    "if torch.cuda.is_available():\n",
    "    res = faiss.StandardGpuResources()\n",
    "    index = faiss.index_cpu_to_gpu(res, 0, index)\n",
    "\n",
    "index.add(embeddings)\n",
    "print(f\"Index built with {index.ntotal} vectors\")"
   ]
  },
  {
   "cell_type": "code",
   "execution_count": null,
   "metadata": {
    "id": "index-saving"
   },
   "outputs": [],
   "source": [
    "# 4. Save index\n",
    "os.makedirs(\"indices\", exist_ok=True)\n",
    "faiss.write_index(faiss.index_gpu_to_cpu(index), \"indices/sbert_faiss.index\")\n",
    "print(\"Index saved to indices/sbert_faiss.index\")"
   ]
  }
 ],
 "metadata": {
  "accelerator": "GPU",
  "colab": {
   "provenance": []
  },
  "kernelspec": {
   "display_name": "Python 3",
   "name": "python3"
  }
 },
 "nbformat": 4,
 "nbformat_minor": 0
}
