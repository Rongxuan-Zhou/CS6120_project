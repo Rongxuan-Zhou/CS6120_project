{
 "cells": [
  {
   "cell_type": "markdown",
   "metadata": {
    "id": "view-in-github"
   },
   "source": [
    "# Hybrid Retrieval System",
    "Implemented based on src/dynamic_weighting.py"
   ]
  },
  {
   "cell_type": "code",
   "execution_count": null,
   "metadata": {
    "id": "initial-setup"
   },
   "outputs": [],
   "source": [
    "# 1. Environment Setup\n",
    "!pip install -q rank_bm25 faiss-gpu\n",
    "from google.colab import drive\n",
    "drive.mount('/content/drive')\n",
    "\n",
    "import os\n",
    "PROJECT_PATH = \"/content/drive/MyDrive/CS6120_project\"\n",
    "os.chdir(PROJECT_PATH)\n",
    "\n",
    "# Memory monitoring\n",
    "import psutil\n",
    "print(f\"Available memory: {psutil.virtual_memory().available/1024**3:.2f} GB\")"
   ]
  },
  {
   "cell_type": "code",
   "execution_count": null,
   "metadata": {
    "id": "component-loading"
   },
   "outputs": [],
   "source": [
    "# 2. Load components\n",
    "from src.bm25_retriever import BM25Retriever\n",
    "from src.dynamic_weighting import DynamicWeighting\n",
    "import faiss\n",
    "import json\n",
    "\n",
    "# Load data\n",
    "with open(\"data/processed/combined.json\") as f:\n",
    "    corpus = json.load(f)[\"train\"]\n",
    "    texts = [doc[\"text\"] for doc in corpus]\n",
    "\n",
    "# Initialize BM25\n",
    "bm25 = BM25Retriever(texts)\n",
    "\n",
    "# Load FAISS index\n",
    "index = faiss.read_index(\"indices/sbert_faiss.index\")\n",
    "if torch.cuda.is_available():\n",
    "    res = faiss.StandardGpuResources()\n",
    "    index = faiss.index_cpu_to_gpu(res, 0, index)\n",
    "\n",
    "# Initialize dynamic weighting module\n",
    "weighting = DynamicWeighting(bm25, index)"
   ]
  },
  {
   "cell_type": "code",
   "execution_count": null,
   "metadata": {
    "id": "retrieval-demo"
   },
   "outputs": [],
   "source": [
    "# 3. Hybrid retrieval demo\n",
    "query = \"机器学习在自然语言处理中的应用\"\n",
    "\n",
    "# Get component scores\n",
    "bm25_scores = bm25.get_scores(query)\n",
    "vector_scores = weighting.get_vector_scores(query)\n",
    "\n",
    "# Calculate dynamic weights\n",
    "final_scores = weighting.calculate_hybrid_scores(query)\n",
    "\n",
    "# Get Top-K results\n",
    "top_k = 5\n",
    "indices = np.argsort(final_scores)[-top_k:][::-1]\n",
    "for i, idx in enumerate(indices):\n",
    "    print(f\"Rank {i+1}: {texts[idx][:200]}...\")\n",
    "    print(f\"BM25 Score: {bm25_scores[idx]:.4f}, Vector Score: {vector_scores[idx]:.4f}, Final Score: {final_scores[idx]:.4f}\")\n",
    "    print(\"-\"*50)"
   ]
  },
  {
   "cell_type": "code",
   "execution_count": null,
   "metadata": {
    "id": "weight-analysis"
   },
   "outputs": [],
   "source": [
    "# 4. Weight analysis\n",
    "import matplotlib.pyplot as plt\n",
    "\n",
    "# Simulate different query lengths\n",
    "query_lengths = range(5, 50, 5)\n",
    "bm25_weights = []\n",
    "vector_weights = []\n",
    "\n",
    "for length in query_lengths:\n",
    "    test_query = \" \".join([\"word\"] * length)\n",
    "    w_bm25, w_vector = weighting.calculate_weights(test_query)\n",
    "    bm25_weights.append(w_bm25)\n",
    "    vector_weights.append(w_vector)\n",
    "\n",
    "# Visualize weight dynamics\n",
    "plt.figure(figsize=(10,6))\n",
    "plt.plot(query_lengths, bm25_weights, label='BM25 Weight')\n",
    "plt.plot(query_lengths, vector_weights, label='Vector Weight')\n",
    "plt.xlabel('Query Length')\n",
    "plt.ylabel('Weight')\n",
    "plt.title('Dynamic Weighting by Query Length')\n",
    "plt.legend()\n",
    "plt.show()"
   ]
  }
 ],
 "metadata": {
  "accelerator": "GPU",
  "colab": {
   "provenance": []
  },
  "kernelspec": {
   "display_name": "Python 3",
   "name": "python3"
  }
 },
 "nbformat": 4,
 "nbformat_minor": 0
}
