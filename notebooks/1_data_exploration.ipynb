{
 "cells": [
  {
   "cell_type": "markdown",
   "metadata": {
    "id": "view-in-github"
   },
   "source": [
    "# Social Media Data Exploration and Analysis",
    "Implemented based on src/data_preparation.py"
   ]
  },
  {
   "cell_type": "code",
   "execution_count": null,
   "metadata": {
    "id": "initial-setup"
   },
   "outputs": [],
   "source": [
    "# 1. Environment Setup\n",
    "!pip install -q pandas matplotlib seaborn datasets\n",
    "from google.colab import drive\n",
    "drive.mount('/content/drive')\n",
    "\n",
    "# Set project path\n",
    "import os\n",
    "PROJECT_PATH = \"/content/drive/MyDrive/CS6120_project\"\n",
    "os.chdir(PROJECT_PATH)\n",
    "\n",
    "# Memory monitoring\n",
    "import psutil\n",
    "print(f\"Available memory: {psutil.virtual_memory().available/1024**3:.2f} GB\")"
   ]
  },
  {
   "cell_type": "code",
   "execution_count": null,
   "metadata": {
    "id": "data-loading"
   },
   "outputs": [],
   "source": [
    "# 2. Data Loading (based on src/data_preparation.py)\n",
    "from src.data_preparation import DataPreprocessor\n",
    "import pandas as pd\n",
    "from datasets import load_dataset\n",
    "\n",
    "# Initialize preprocessor\n",
    "preprocessor = DataPreprocessor()\n",
    "\n",
    "# Load MSMARCO dataset\n",
    "try:\n",
    "    msmarco = load_dataset(\"microsoft/ms_marco\", \"v1.1\")\n",
    "    msmarco_df = pd.DataFrame([{\n",
    "        'text': doc['passages']['passage_text'][0],\n",
    "        'length': len(doc['passages']['passage_text'][0])\n",
    "    } for doc in msmarco['train'][:10000]])  # Sample 10k records\n",
    "    \n",
    "    print(f\"MSMARCO statistics:\\n{msmarco_df.describe()}\")\n",
    "except Exception as e:\n",
    "    print(f\"Failed to load MSMARCO: {e}\")"
   ]
  },
  {
   "cell_type": "code",
   "execution_count": null,
   "metadata": {
    "id": "data-visualization"
   },
   "outputs": [],
   "source": [
    "# 3. Data Visualization\n",
    "import matplotlib.pyplot as plt\n",
    "import seaborn as sns\n",
    "\n",
    "# Text length distribution\n",
    "plt.figure(figsize=(10,6))\n",
    "sns.histplot(msmarco_df['length'], bins=50)\n",
    "plt.title('Text Length Distribution')\n",
    "plt.xlabel('Character Count')\n",
    "plt.ylabel('Frequency')\n",
    "plt.show()"
   ]
  },
  {
   "cell_type": "code",
   "execution_count": null,
   "metadata": {
    "id": "memory-optimization"
   },
   "outputs": [],
   "source": [
    "# 4. Memory Optimization Check\n",
    "def check_memory_usage(df):\n",
    "    mem_usage = df.memory_usage(deep=True).sum() / 1024**2\n",
    "    print(f\"Current memory usage: {mem_usage:.2f} MB\")\n",
    "    if mem_usage > 500:  # Warning if exceeds 500MB\n",
    "        print(\"Warning: High memory usage, consider optimizing data types\")\n",
    "        \n",
    "check_memory_usage(msmarco_df)"
   ]
  }
 ],
 "metadata": {
  "accelerator": "GPU",
  "colab": {
   "provenance": []
  },
  "kernelspec": {
   "display_name": "Python 3",
   "name": "python3"
  }
 },
 "nbformat": 4,
 "nbformat_minor": 0
}
