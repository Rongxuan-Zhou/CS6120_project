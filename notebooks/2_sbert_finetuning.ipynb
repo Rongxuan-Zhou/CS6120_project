{
  "cells": [
    {
      "cell_type": "code",
      "execution_count": 8,
      "metadata": {
        "colab": {
          "base_uri": "https://localhost:8080/"
        },
        "collapsed": true,
        "id": "mzMG6j2IyTbs",
        "outputId": "e42d9288-e1f3-435f-89ef-dbb702006e13"
      },
      "outputs": [
        {
          "name": "stdout",
          "output_type": "stream",
          "text": [
            "Drive already mounted at /content/drive; to attempt to forcibly remount, call drive.mount(\"/content/drive\", force_remount=True).\n",
            "fatal: destination path 'SentEval' already exists and is not an empty directory.\n",
            "Requirement already satisfied: datasets in /usr/local/lib/python3.11/dist-packages (3.5.0)\n",
            "Requirement already satisfied: sentence_transformers in /usr/local/lib/python3.11/dist-packages (3.4.1)\n",
            "Requirement already satisfied: filelock in /usr/local/lib/python3.11/dist-packages (from datasets) (3.18.0)\n",
            "Requirement already satisfied: numpy>=1.17 in /usr/local/lib/python3.11/dist-packages (from datasets) (2.0.2)\n",
            "Requirement already satisfied: pyarrow>=15.0.0 in /usr/local/lib/python3.11/dist-packages (from datasets) (18.1.0)\n",
            "Requirement already satisfied: dill<0.3.9,>=0.3.0 in /usr/local/lib/python3.11/dist-packages (from datasets) (0.3.8)\n",
            "Requirement already satisfied: pandas in /usr/local/lib/python3.11/dist-packages (from datasets) (2.2.2)\n",
            "Requirement already satisfied: requests>=2.32.2 in /usr/local/lib/python3.11/dist-packages (from datasets) (2.32.3)\n",
            "Requirement already satisfied: tqdm>=4.66.3 in /usr/local/lib/python3.11/dist-packages (from datasets) (4.67.1)\n",
            "Requirement already satisfied: xxhash in /usr/local/lib/python3.11/dist-packages (from datasets) (3.5.0)\n",
            "Requirement already satisfied: multiprocess<0.70.17 in /usr/local/lib/python3.11/dist-packages (from datasets) (0.70.16)\n",
            "Requirement already satisfied: fsspec<=2024.12.0,>=2023.1.0 in /usr/local/lib/python3.11/dist-packages (from fsspec[http]<=2024.12.0,>=2023.1.0->datasets) (2024.12.0)\n",
            "Requirement already satisfied: aiohttp in /usr/local/lib/python3.11/dist-packages (from datasets) (3.11.15)\n",
            "Requirement already satisfied: huggingface-hub>=0.24.0 in /usr/local/lib/python3.11/dist-packages (from datasets) (0.30.1)\n",
            "Requirement already satisfied: packaging in /usr/local/lib/python3.11/dist-packages (from datasets) (24.2)\n",
            "Requirement already satisfied: pyyaml>=5.1 in /usr/local/lib/python3.11/dist-packages (from datasets) (6.0.2)\n",
            "Requirement already satisfied: transformers<5.0.0,>=4.41.0 in /usr/local/lib/python3.11/dist-packages (from sentence_transformers) (4.50.3)\n",
            "Requirement already satisfied: torch>=1.11.0 in /usr/local/lib/python3.11/dist-packages (from sentence_transformers) (2.6.0+cu124)\n",
            "Requirement already satisfied: scikit-learn in /usr/local/lib/python3.11/dist-packages (from sentence_transformers) (1.6.1)\n",
            "Requirement already satisfied: scipy in /usr/local/lib/python3.11/dist-packages (from sentence_transformers) (1.14.1)\n",
            "Requirement already satisfied: Pillow in /usr/local/lib/python3.11/dist-packages (from sentence_transformers) (11.1.0)\n",
            "Requirement already satisfied: aiohappyeyeballs>=2.3.0 in /usr/local/lib/python3.11/dist-packages (from aiohttp->datasets) (2.6.1)\n",
            "Requirement already satisfied: aiosignal>=1.1.2 in /usr/local/lib/python3.11/dist-packages (from aiohttp->datasets) (1.3.2)\n",
            "Requirement already satisfied: attrs>=17.3.0 in /usr/local/lib/python3.11/dist-packages (from aiohttp->datasets) (25.3.0)\n",
            "Requirement already satisfied: frozenlist>=1.1.1 in /usr/local/lib/python3.11/dist-packages (from aiohttp->datasets) (1.5.0)\n",
            "Requirement already satisfied: multidict<7.0,>=4.5 in /usr/local/lib/python3.11/dist-packages (from aiohttp->datasets) (6.2.0)\n",
            "Requirement already satisfied: propcache>=0.2.0 in /usr/local/lib/python3.11/dist-packages (from aiohttp->datasets) (0.3.1)\n",
            "Requirement already satisfied: yarl<2.0,>=1.17.0 in /usr/local/lib/python3.11/dist-packages (from aiohttp->datasets) (1.18.3)\n",
            "Requirement already satisfied: typing-extensions>=3.7.4.3 in /usr/local/lib/python3.11/dist-packages (from huggingface-hub>=0.24.0->datasets) (4.13.1)\n",
            "Requirement already satisfied: charset-normalizer<4,>=2 in /usr/local/lib/python3.11/dist-packages (from requests>=2.32.2->datasets) (3.4.1)\n",
            "Requirement already satisfied: idna<4,>=2.5 in /usr/local/lib/python3.11/dist-packages (from requests>=2.32.2->datasets) (3.10)\n",
            "Requirement already satisfied: urllib3<3,>=1.21.1 in /usr/local/lib/python3.11/dist-packages (from requests>=2.32.2->datasets) (2.3.0)\n",
            "Requirement already satisfied: certifi>=2017.4.17 in /usr/local/lib/python3.11/dist-packages (from requests>=2.32.2->datasets) (2025.1.31)\n",
            "Requirement already satisfied: networkx in /usr/local/lib/python3.11/dist-packages (from torch>=1.11.0->sentence_transformers) (3.4.2)\n",
            "Requirement already satisfied: jinja2 in /usr/local/lib/python3.11/dist-packages (from torch>=1.11.0->sentence_transformers) (3.1.6)\n",
            "Requirement already satisfied: nvidia-cuda-nvrtc-cu12==12.4.127 in /usr/local/lib/python3.11/dist-packages (from torch>=1.11.0->sentence_transformers) (12.4.127)\n",
            "Requirement already satisfied: nvidia-cuda-runtime-cu12==12.4.127 in /usr/local/lib/python3.11/dist-packages (from torch>=1.11.0->sentence_transformers) (12.4.127)\n",
            "Requirement already satisfied: nvidia-cuda-cupti-cu12==12.4.127 in /usr/local/lib/python3.11/dist-packages (from torch>=1.11.0->sentence_transformers) (12.4.127)\n",
            "Requirement already satisfied: nvidia-cudnn-cu12==9.1.0.70 in /usr/local/lib/python3.11/dist-packages (from torch>=1.11.0->sentence_transformers) (9.1.0.70)\n",
            "Requirement already satisfied: nvidia-cublas-cu12==12.4.5.8 in /usr/local/lib/python3.11/dist-packages (from torch>=1.11.0->sentence_transformers) (12.4.5.8)\n",
            "Requirement already satisfied: nvidia-cufft-cu12==11.2.1.3 in /usr/local/lib/python3.11/dist-packages (from torch>=1.11.0->sentence_transformers) (11.2.1.3)\n",
            "Requirement already satisfied: nvidia-curand-cu12==10.3.5.147 in /usr/local/lib/python3.11/dist-packages (from torch>=1.11.0->sentence_transformers) (10.3.5.147)\n",
            "Requirement already satisfied: nvidia-cusolver-cu12==11.6.1.9 in /usr/local/lib/python3.11/dist-packages (from torch>=1.11.0->sentence_transformers) (11.6.1.9)\n",
            "Requirement already satisfied: nvidia-cusparse-cu12==12.3.1.170 in /usr/local/lib/python3.11/dist-packages (from torch>=1.11.0->sentence_transformers) (12.3.1.170)\n",
            "Requirement already satisfied: nvidia-cusparselt-cu12==0.6.2 in /usr/local/lib/python3.11/dist-packages (from torch>=1.11.0->sentence_transformers) (0.6.2)\n",
            "Requirement already satisfied: nvidia-nccl-cu12==2.21.5 in /usr/local/lib/python3.11/dist-packages (from torch>=1.11.0->sentence_transformers) (2.21.5)\n",
            "Requirement already satisfied: nvidia-nvtx-cu12==12.4.127 in /usr/local/lib/python3.11/dist-packages (from torch>=1.11.0->sentence_transformers) (12.4.127)\n",
            "Requirement already satisfied: nvidia-nvjitlink-cu12==12.4.127 in /usr/local/lib/python3.11/dist-packages (from torch>=1.11.0->sentence_transformers) (12.4.127)\n",
            "Requirement already satisfied: triton==3.2.0 in /usr/local/lib/python3.11/dist-packages (from torch>=1.11.0->sentence_transformers) (3.2.0)\n",
            "Requirement already satisfied: sympy==1.13.1 in /usr/local/lib/python3.11/dist-packages (from torch>=1.11.0->sentence_transformers) (1.13.1)\n",
            "Requirement already satisfied: mpmath<1.4,>=1.1.0 in /usr/local/lib/python3.11/dist-packages (from sympy==1.13.1->torch>=1.11.0->sentence_transformers) (1.3.0)\n",
            "Requirement already satisfied: regex!=2019.12.17 in /usr/local/lib/python3.11/dist-packages (from transformers<5.0.0,>=4.41.0->sentence_transformers) (2024.11.6)\n",
            "Requirement already satisfied: tokenizers<0.22,>=0.21 in /usr/local/lib/python3.11/dist-packages (from transformers<5.0.0,>=4.41.0->sentence_transformers) (0.21.1)\n",
            "Requirement already satisfied: safetensors>=0.4.3 in /usr/local/lib/python3.11/dist-packages (from transformers<5.0.0,>=4.41.0->sentence_transformers) (0.5.3)\n",
            "Requirement already satisfied: python-dateutil>=2.8.2 in /usr/local/lib/python3.11/dist-packages (from pandas->datasets) (2.8.2)\n",
            "Requirement already satisfied: pytz>=2020.1 in /usr/local/lib/python3.11/dist-packages (from pandas->datasets) (2025.2)\n",
            "Requirement already satisfied: tzdata>=2022.7 in /usr/local/lib/python3.11/dist-packages (from pandas->datasets) (2025.2)\n",
            "Requirement already satisfied: joblib>=1.2.0 in /usr/local/lib/python3.11/dist-packages (from scikit-learn->sentence_transformers) (1.4.2)\n",
            "Requirement already satisfied: threadpoolctl>=3.1.0 in /usr/local/lib/python3.11/dist-packages (from scikit-learn->sentence_transformers) (3.6.0)\n",
            "Requirement already satisfied: six>=1.5 in /usr/local/lib/python3.11/dist-packages (from python-dateutil>=2.8.2->pandas->datasets) (1.17.0)\n",
            "Requirement already satisfied: MarkupSafe>=2.0 in /usr/local/lib/python3.11/dist-packages (from jinja2->torch>=1.11.0->sentence_transformers) (3.0.2)\n"
          ]
        }
      ],
      "source": [
        "# Mount Google Drive if needed\n",
        "from google.colab import drive\n",
        "drive.mount('/content/drive')\n",
        "\n",
        "import os\n",
        "PROJECT_PATH = \"/content/drive/MyDrive/CS6120_project\"\n",
        "os.makedirs(PROJECT_PATH, exist_ok=True)\n",
        "\n",
        "# Install/Import SentEval\n",
        "!git clone https://github.com/facebookresearch/SentEval.git\n",
        "import sys\n",
        "sys.path.insert(0, './SentEval')\n",
        "import inspect\n",
        "if not hasattr(inspect, \"getargspec\"):\n",
        "    # For Python 3 compatibility with older SentEval\n",
        "    inspect.getargspec = inspect.getfullargspec\n",
        "import senteval\n",
        "\n",
        "# Install/Import SentenceTransformers and other needed libraries\n",
        "!pip install datasets sentence_transformers\n",
        "from sentence_transformers import SentenceTransformer, SentencesDataset, InputExample, losses, util\n",
        "from torch.utils.data import DataLoader\n",
        "from datasets import load_dataset\n",
        "from scipy.stats import spearmanr\n",
        "import pandas as pd\n",
        "\n",
        "# Disable W&B logging\n",
        "os.environ[\"WANDB_DISABLED\"] = \"true\""
      ]
    },
    {
      "cell_type": "markdown",
      "metadata": {
        "id": "iMAqecZi4a-x"
      },
      "source": [
        "## 1. Prepare Data for STS-B Fine-tuning"
      ]
    },
    {
      "cell_type": "code",
      "execution_count": 10,
      "metadata": {
        "id": "Rv38A1FhbqCI"
      },
      "outputs": [],
      "source": [
        "# Load the STS-B English dataset (stsb_multi_mt for English)\n",
        "sts_dataset = load_dataset('stsb_multi_mt', name='en')\n",
        "\n",
        "train_data_sts = sts_dataset['train']\n",
        "test_data_sts = sts_dataset['test']\n",
        "\n",
        "# Convert STS-B train examples to InputExample format\n",
        "# Each example is (sentence1, sentence2, normalized_score)\n",
        "train_examples_sts = []\n",
        "for item in train_data_sts:\n",
        "    score_norm = float(item['similarity_score']) / 5.0\n",
        "    inp_example = InputExample(\n",
        "        texts=[item['sentence1'], item['sentence2']],\n",
        "        label=score_norm\n",
        "    )\n",
        "    train_examples_sts.append(inp_example)"
      ]
    },
    {
      "cell_type": "markdown",
      "metadata": {
        "id": "VGbd1jThi-ar"
      },
      "source": [
        "## 2. Prepare SentEval Toolkit"
      ]
    },
    {
      "cell_type": "code",
      "execution_count": 11,
      "metadata": {
        "id": "V9h_LNA2tAUE"
      },
      "outputs": [],
      "source": [
        "\"\"\"\n",
        "  data download link: https://github.com/facebookresearch/SentEval\n",
        "  follow steps in README.md to download the data\n",
        "\"\"\"\n",
        "# SentEval requires a data_path with the downstream tasks data\n",
        "# Make sure data is placed inside /content/drive/MyDrive/CS6120_project/data/raw\n",
        "params_senteval = {\n",
        "    'task_path': '/content/drive/MyDrive/CS6120_project/data/raw',\n",
        "    'usepytorch': True,\n",
        "    'kfold': 10  # cross-validation folds (can be 5 or 10)\n",
        "}\n",
        "\n",
        "# Specify the tasks you want to evaluate\n",
        "transfer_tasks = ['TREC', 'MRPC']\n",
        "\n",
        "# By default, 'prepare' can be a no-op for SBERT\n",
        "def prepare(params, samples):\n",
        "    return\n",
        "\n",
        "# Batcher function: given a batch of tokenized sentences, convert them to embeddings\n",
        "def batcher(params, batch):\n",
        "    \"\"\"\n",
        "    SentEval expects a list of tokenized sentences, e.g. [['hello'], ['world']]\n",
        "    We join tokens with whitespace. If the sentence is empty, we replace it with '.'\n",
        "    Then we encode using the SentenceTransformer model.\n",
        "    \"\"\"\n",
        "    sentences = [' '.join(s) if len(s) != 0 else '.' for s in batch]\n",
        "    embeddings = model.encode(sentences, convert_to_tensor=False)\n",
        "    return embeddings"
      ]
    },
    {
      "cell_type": "markdown",
      "metadata": {
        "id": "1FhukxZ7dfhu"
      },
      "source": [
        "## 3. Fine-tune SBERT on STS-B"
      ]
    },
    {
      "cell_type": "code",
      "execution_count": 20,
      "metadata": {
        "colab": {
          "base_uri": "https://localhost:8080/",
          "height": 191,
          "referenced_widgets": [
            "2b179eea370743a3999ab859be247b3b",
            "c20eedfcdc244c6e87e501e54c3946c1",
            "798cffcabc934904a699e1f95d033a92",
            "25c95c1a580e401e9404c093b3ae9882",
            "a22edd2dcd1e4bdaa1b2bea89d6990e4",
            "dca34ff3b1da4637871c69421c06d43c",
            "1c903b2e77874ee9944ccbebc85705fd",
            "4af2bd7fea8e43d5a4c4b265e3aa217f",
            "55eda0c810444e9faf6596d3599a35f5",
            "68ab86ed0cb3449fbe62e3e39295a406",
            "005e7959aedf42fdb9bfc7487b7c27b1"
          ]
        },
        "collapsed": true,
        "id": "oKpuQRdm4eKc",
        "outputId": "625a66a4-3662-45d1-d85e-1ce8c2b069de"
      },
      "outputs": [
        {
          "name": "stderr",
          "output_type": "stream",
          "text": [
            "Using the `WANDB_DISABLED` environment variable is deprecated and will be removed in v5. Use the --report_to flag to control the integrations used for logging result (for instance --report_to none).\n",
            "Using the `WANDB_DISABLED` environment variable is deprecated and will be removed in v5. Use the --report_to flag to control the integrations used for logging result (for instance --report_to none).\n"
          ]
        },
        {
          "data": {
            "application/vnd.jupyter.widget-view+json": {
              "model_id": "2b179eea370743a3999ab859be247b3b",
              "version_major": 2,
              "version_minor": 0
            },
            "text/plain": [
              "Computing widget examples:   0%|          | 0/1 [00:00<?, ?example/s]"
            ]
          },
          "metadata": {},
          "output_type": "display_data"
        },
        {
          "data": {
            "text/html": [
              "\n",
              "    <div>\n",
              "      \n",
              "      <progress value='1440' max='1440' style='width:300px; height:20px; vertical-align: middle;'></progress>\n",
              "      [1440/1440 01:44, Epoch 4/4]\n",
              "    </div>\n",
              "    <table border=\"1\" class=\"dataframe\">\n",
              "  <thead>\n",
              " <tr style=\"text-align: left;\">\n",
              "      <th>Step</th>\n",
              "      <th>Training Loss</th>\n",
              "    </tr>\n",
              "  </thead>\n",
              "  <tbody>\n",
              "    <tr>\n",
              "      <td>500</td>\n",
              "      <td>0.027500</td>\n",
              "    </tr>\n",
              "    <tr>\n",
              "      <td>1000</td>\n",
              "      <td>0.010200</td>\n",
              "    </tr>\n",
              "  </tbody>\n",
              "</table><p>"
            ],
            "text/plain": [
              "<IPython.core.display.HTML object>"
            ]
          },
          "metadata": {},
          "output_type": "display_data"
        }
      ],
      "source": [
        "# Initialize pre-trained SBERT\n",
        "model_sbert_sts = SentenceTransformer('bert-base-nli-mean-tokens')\n",
        "\n",
        "# Build training dataloader\n",
        "train_dataset_sts = SentencesDataset(train_examples_sts, model=model_sbert_sts)\n",
        "train_dataloader_sts = DataLoader(train_dataset_sts, shuffle=True, batch_size=16)\n",
        "\n",
        "# Define loss function (CosineSimilarityLoss for STS tasks)\n",
        "train_loss_sts = losses.CosineSimilarityLoss(model_sbert_sts)\n",
        "\n",
        "# Fine-tune the model\n",
        "model_sbert_sts.fit(\n",
        "    train_objectives=[(train_dataloader_sts, train_loss_sts)],\n",
        "    epochs=4,\n",
        "    warmup_steps=100,\n",
        "    output_path='/content/drive/MyDrive/CS6120_project/model/stsb_finetuned_model',\n",
        "    show_progress_bar=True\n",
        ")"
      ]
    },
    {
      "cell_type": "code",
      "execution_count": 13,
      "metadata": {
        "colab": {
          "base_uri": "https://localhost:8080/"
        },
        "id": "_oH4gj5ke0NZ",
        "outputId": "6433a42c-4962-4d89-9353-bcb3d611f891"
      },
      "outputs": [
        {
          "name": "stdout",
          "output_type": "stream",
          "text": [
            "[STS-B] Spearman correlation after STS fine-tuning: 0.8541\n"
          ]
        }
      ],
      "source": [
        "## uncomment these two lines to load fine-tuned model if you have trained model and want to skip the training step\n",
        "# model_sts_ft = SentenceTransformer(\"/content/drive/MyDrive/CS6120_project/model/stsb_finetuned_model\")\n",
        "\n",
        "gold_scores = []\n",
        "predicted_scores = []\n",
        "\n",
        "for sample in test_data_sts:\n",
        "    s1 = sample['sentence1']\n",
        "    s2 = sample['sentence2']\n",
        "    gold_score = float(sample['similarity_score']) / 5.0  # normalized to 0..1\n",
        "\n",
        "    emb1 = model_sts_ft.encode(s1)\n",
        "    emb2 = model_sts_ft.encode(s2)\n",
        "    cosine_sim = util.cos_sim(emb1, emb2).item()\n",
        "\n",
        "    gold_scores.append(gold_score)\n",
        "    predicted_scores.append(cosine_sim)\n",
        "\n",
        "spearman_sts, _ = spearmanr(gold_scores, predicted_scores)\n",
        "print(f\"[STS-B] Spearman correlation after STS fine-tuning: {spearman_sts:.4f}\")\n"
      ]
    },
    {
      "cell_type": "markdown",
      "metadata": {
        "id": "XSPyviiswpfI"
      },
      "source": [
        "## 4. Further Fine-tune on MSMARCO"
      ]
    },
    {
      "cell_type": "code",
      "execution_count": 24,
      "metadata": {
        "colab": {
          "base_uri": "https://localhost:8080/",
          "height": 487,
          "referenced_widgets": [
            "795bfed9fd004c80b10499c7aa91ee43",
            "a8c11e4d3a314e0892c27b45cc0a27dc",
            "9bdbc53a82fb408ab19beb08994976ce",
            "cf8cdc7da11d4371a9a889227c2bb363",
            "9fa673df3c6c4ca0b87385d6bd07e0c5",
            "a34f0b35221f41dbbb519eac37d0dcfa",
            "356572fa3c204e33b91db6d2c76fc907",
            "b965d8ff3f604a168b05dc4706c0045a",
            "550adc3b350342ea8b96ad6255580b31",
            "1f073810d5424baa95a1f814f9278bf6",
            "c770d3b8dd96410295d8ab000f434dc2"
          ]
        },
        "id": "QsLI4lyFxKYG",
        "outputId": "db594edc-3837-4f5e-9811-9feb34444633"
      },
      "outputs": [
        {
          "name": "stdout",
          "output_type": "stream",
          "text": [
            "[MSMARCO] Total training pairs: 88523\n"
          ]
        },
        {
          "name": "stderr",
          "output_type": "stream",
          "text": [
            "Using the `WANDB_DISABLED` environment variable is deprecated and will be removed in v5. Use the --report_to flag to control the integrations used for logging result (for instance --report_to none).\n",
            "Using the `WANDB_DISABLED` environment variable is deprecated and will be removed in v5. Use the --report_to flag to control the integrations used for logging result (for instance --report_to none).\n"
          ]
        },
        {
          "data": {
            "application/vnd.jupyter.widget-view+json": {
              "model_id": "795bfed9fd004c80b10499c7aa91ee43",
              "version_major": 2,
              "version_minor": 0
            },
            "text/plain": [
              "Computing widget examples:   0%|          | 0/1 [00:00<?, ?example/s]"
            ]
          },
          "metadata": {},
          "output_type": "display_data"
        },
        {
          "data": {
            "text/html": [
              "\n",
              "    <div>\n",
              "      \n",
              "      <progress value='5533' max='5533' style='width:300px; height:20px; vertical-align: middle;'></progress>\n",
              "      [5533/5533 10:22, Epoch 1/1]\n",
              "    </div>\n",
              "    <table border=\"1\" class=\"dataframe\">\n",
              "  <thead>\n",
              " <tr style=\"text-align: left;\">\n",
              "      <th>Step</th>\n",
              "      <th>Training Loss</th>\n",
              "    </tr>\n",
              "  </thead>\n",
              "  <tbody>\n",
              "    <tr>\n",
              "      <td>500</td>\n",
              "      <td>0.101600</td>\n",
              "    </tr>\n",
              "    <tr>\n",
              "      <td>1000</td>\n",
              "      <td>0.034100</td>\n",
              "    </tr>\n",
              "    <tr>\n",
              "      <td>1500</td>\n",
              "      <td>0.025400</td>\n",
              "    </tr>\n",
              "    <tr>\n",
              "      <td>2000</td>\n",
              "      <td>0.027700</td>\n",
              "    </tr>\n",
              "    <tr>\n",
              "      <td>2500</td>\n",
              "      <td>0.019400</td>\n",
              "    </tr>\n",
              "    <tr>\n",
              "      <td>3000</td>\n",
              "      <td>0.017900</td>\n",
              "    </tr>\n",
              "    <tr>\n",
              "      <td>3500</td>\n",
              "      <td>0.019400</td>\n",
              "    </tr>\n",
              "    <tr>\n",
              "      <td>4000</td>\n",
              "      <td>0.015800</td>\n",
              "    </tr>\n",
              "    <tr>\n",
              "      <td>4500</td>\n",
              "      <td>0.016600</td>\n",
              "    </tr>\n",
              "    <tr>\n",
              "      <td>5000</td>\n",
              "      <td>0.013600</td>\n",
              "    </tr>\n",
              "    <tr>\n",
              "      <td>5500</td>\n",
              "      <td>0.015500</td>\n",
              "    </tr>\n",
              "  </tbody>\n",
              "</table><p>"
            ],
            "text/plain": [
              "<IPython.core.display.HTML object>"
            ]
          },
          "metadata": {},
          "output_type": "display_data"
        }
      ],
      "source": [
        "# load model\n",
        "model_sts_ft = SentenceTransformer(\"/content/drive/MyDrive/CS6120_project/model/stsb_finetuned_model\")\n",
        "\n",
        "# Load MSMARCO dataset (train split)\n",
        "# NOTE: This dataset is quite large. Consider sampling or partial loading for demonstration.\n",
        "dataset_msmarco = load_dataset(\"ms_marco\", \"v1.1\", split=\"train\")\n",
        "\n",
        "train_examples_msmarco = []\n",
        "for example in dataset_msmarco:\n",
        "    query = example[\"query\"]\n",
        "    passages = example[\"passages\"]\n",
        "\n",
        "    # 'is_selected' indicates whether the passage is a positive example\n",
        "    for text, is_sel in zip(passages[\"passage_text\"], passages[\"is_selected\"]):\n",
        "        if is_sel == 1:\n",
        "            # Each positive example\n",
        "            train_examples_msmarco.append(InputExample(texts=[query, text]))\n",
        "\n",
        "print(f\"[MSMARCO] Total training pairs: {len(train_examples_msmarco)}\")\n",
        "\n",
        "# Build Dataloader\n",
        "train_dataset_msmarco = SentencesDataset(train_examples_msmarco, model=model_sts_ft)\n",
        "train_dataloader_msmarco = DataLoader(train_dataset_msmarco, shuffle=True, batch_size=16)\n",
        "\n",
        "# Define loss: MultipleNegativesRankingLoss is common for retrieval tasks\n",
        "train_loss_msmarco = losses.MultipleNegativesRankingLoss(model_sts_ft)\n",
        "\n",
        "# Fine-tune the model further\n",
        "model_sts_ft.fit(\n",
        "    train_objectives=[(train_dataloader_msmarco, train_loss_msmarco)],\n",
        "    epochs=1,\n",
        "    warmup_steps=int(len(train_dataloader_msmarco) * 1 * 0.1),\n",
        "    output_path='/content/drive/MyDrive/CS6120_project/model/msmarco_stsb_finetuned_model',\n",
        "    show_progress_bar=True\n",
        ")"
      ]
    },
    {
      "cell_type": "markdown",
      "metadata": {
        "id": "CrNFdvUl3UMd"
      },
      "source": [
        "## 5. Model Evaluation & Summary Metrics"
      ]
    },
    {
      "cell_type": "code",
      "execution_count": 25,
      "metadata": {
        "colab": {
          "base_uri": "https://localhost:8080/"
        },
        "id": "4tGRJ-kzz_5v",
        "outputId": "80ffead5-5c09-47b2-c833-572994186395"
      },
      "outputs": [
        {
          "name": "stdout",
          "output_type": "stream",
          "text": [
            "\n",
            "=== Evaluate after STS-B Fine-tuning ===\n",
            "TREC: 84.20\n",
            "MRPC: 75.13\n",
            "\n",
            "=== Evaluate after MSMARCO + STS-B Fine-tuning ===\n",
            "TREC: 86.40\n",
            "MRPC: 70.96\n"
          ]
        }
      ],
      "source": [
        "# uncomment these three lines to load fine-tuned models if you have trained models and want to skip the training steps\n",
        "model_sts_ft = SentenceTransformer(\"/content/drive/MyDrive/CS6120_project/model/stsb_finetuned_model\")\n",
        "model_final = SentenceTransformer(\"/content/drive/MyDrive/CS6120_project/model/msmarco_stsb_finetuned_model\")\n",
        "\n",
        "final_metrics = {\n",
        "    's1_sts_spearman': spearman_sts\n",
        "}\n",
        "\n",
        "# Evaluate with SentEval\n",
        "se = senteval.engine.SE(params_senteval, batcher, prepare)\n",
        "\n",
        "print(\"\\n=== Evaluate after STS-B Fine-tuning ===\")\n",
        "model = model_sts_ft  # Important: SentEval uses the global 'model' object in the batcher\n",
        "results_stage1 = se.eval(transfer_tasks)\n",
        "\n",
        "for task in transfer_tasks:\n",
        "    if 'acc' in results_stage1[task]:\n",
        "        print(f\"{task}: {results_stage1[task]['acc']:.2f}\")\n",
        "        final_metrics[f's1_{task.lower()}_acc'] = results_stage1[task]['acc']\n",
        "    else:\n",
        "        print(f\"{task}: {results_stage1[task]}\")\n",
        "\n",
        "\n",
        "print(\"\\n=== Evaluate after MSMARCO + STS-B Fine-tuning ===\")\n",
        "model = model_final  # SentEval uses the global 'model' in the batcher\n",
        "\n",
        "se = senteval.engine.SE(params_senteval, batcher, prepare)\n",
        "results_stage2 = se.eval(transfer_tasks)\n",
        "\n",
        "for task in transfer_tasks:\n",
        "    if 'acc' in results_stage2[task]:\n",
        "        print(f\"{task}: {results_stage2[task]['acc']:.2f}\")\n",
        "        final_metrics[f's2_{task.lower()}_acc'] = results_stage2[task]['acc']\n",
        "    else:\n",
        "        print(f\"{task}: {results_stage2[task]}\")"
      ]
    },
    {
      "cell_type": "code",
      "execution_count": 26,
      "metadata": {
        "colab": {
          "base_uri": "https://localhost:8080/"
        },
        "id": "ZXrBBJnw4L2B",
        "outputId": "c53a1aa8-a237-4997-bfaf-16739eb8553f"
      },
      "outputs": [
        {
          "name": "stdout",
          "output_type": "stream",
          "text": [
            "\n",
            "=== Final Metrics Summary ===\n",
            "                       Stage  TREC Accuracy  MRPC Accuracy  STS-B Spearman\n",
            "0    After STS-B Fine-tuning           84.2          75.13        0.854054\n",
            "1  After MSMARCO Fine-tuning           86.4          70.96             NaN\n"
          ]
        }
      ],
      "source": [
        "summary_data = {\n",
        "    'Stage': ['After STS-B Fine-tuning', 'After MSMARCO Fine-tuning'],\n",
        "    'TREC Accuracy': [\n",
        "        final_metrics.get('s1_trec_acc', None),\n",
        "        final_metrics.get('s2_trec_acc', None)\n",
        "    ],\n",
        "    'MRPC Accuracy': [\n",
        "        final_metrics.get('s1_mrpc_acc', None),\n",
        "        final_metrics.get('s2_mrpc_acc', None)\n",
        "    ],\n",
        "    'STS-B Spearman': [\n",
        "        final_metrics.get('s1_sts_spearman', None),\n",
        "        None  # We didn't re-check STS-B after MSMARCO\n",
        "    ]\n",
        "}\n",
        "\n",
        "df_summary = pd.DataFrame(summary_data)\n",
        "print(\"\\n=== Final Metrics Summary ===\")\n",
        "print(df_summary)"
      ]
    }
  ],
  "metadata": {
    "accelerator": "GPU",
    "colab": {
      "gpuType": "A100",
      "machine_shape": "hm",
      "provenance": []
    },
    "kernelspec": {
      "display_name": "Python 3",
      "name": "python3"
    },
    "language_info": {
      "name": "python"
    },
    "widgets": {
      "application/vnd.jupyter.widget-state+json": {
        "005e7959aedf42fdb9bfc7487b7c27b1": {
          "model_module": "@jupyter-widgets/controls",
          "model_module_version": "1.5.0",
          "model_name": "DescriptionStyleModel",
          "state": {
            "_model_module": "@jupyter-widgets/controls",
            "_model_module_version": "1.5.0",
            "_model_name": "DescriptionStyleModel",
            "_view_count": null,
            "_view_module": "@jupyter-widgets/base",
            "_view_module_version": "1.2.0",
            "_view_name": "StyleView",
            "description_width": ""
          }
        },
        "1c903b2e77874ee9944ccbebc85705fd": {
          "model_module": "@jupyter-widgets/controls",
          "model_module_version": "1.5.0",
          "model_name": "DescriptionStyleModel",
          "state": {
            "_model_module": "@jupyter-widgets/controls",
            "_model_module_version": "1.5.0",
            "_model_name": "DescriptionStyleModel",
            "_view_count": null,
            "_view_module": "@jupyter-widgets/base",
            "_view_module_version": "1.2.0",
            "_view_name": "StyleView",
            "description_width": ""
          }
        },
        "1f073810d5424baa95a1f814f9278bf6": {
          "model_module": "@jupyter-widgets/base",
          "model_module_version": "1.2.0",
          "model_name": "LayoutModel",
          "state": {
            "_model_module": "@jupyter-widgets/base",
            "_model_module_version": "1.2.0",
            "_model_name": "LayoutModel",
            "_view_count": null,
            "_view_module": "@jupyter-widgets/base",
            "_view_module_version": "1.2.0",
            "_view_name": "LayoutView",
            "align_content": null,
            "align_items": null,
            "align_self": null,
            "border": null,
            "bottom": null,
            "display": null,
            "flex": null,
            "flex_flow": null,
            "grid_area": null,
            "grid_auto_columns": null,
            "grid_auto_flow": null,
            "grid_auto_rows": null,
            "grid_column": null,
            "grid_gap": null,
            "grid_row": null,
            "grid_template_areas": null,
            "grid_template_columns": null,
            "grid_template_rows": null,
            "height": null,
            "justify_content": null,
            "justify_items": null,
            "left": null,
            "margin": null,
            "max_height": null,
            "max_width": null,
            "min_height": null,
            "min_width": null,
            "object_fit": null,
            "object_position": null,
            "order": null,
            "overflow": null,
            "overflow_x": null,
            "overflow_y": null,
            "padding": null,
            "right": null,
            "top": null,
            "visibility": null,
            "width": null
          }
        },
        "25c95c1a580e401e9404c093b3ae9882": {
          "model_module": "@jupyter-widgets/controls",
          "model_module_version": "1.5.0",
          "model_name": "HTMLModel",
          "state": {
            "_dom_classes": [],
            "_model_module": "@jupyter-widgets/controls",
            "_model_module_version": "1.5.0",
            "_model_name": "HTMLModel",
            "_view_count": null,
            "_view_module": "@jupyter-widgets/controls",
            "_view_module_version": "1.5.0",
            "_view_name": "HTMLView",
            "description": "",
            "description_tooltip": null,
            "layout": "IPY_MODEL_68ab86ed0cb3449fbe62e3e39295a406",
            "placeholder": "​",
            "style": "IPY_MODEL_005e7959aedf42fdb9bfc7487b7c27b1",
            "value": " 0/1 [00:00&lt;?, ?example/s]"
          }
        },
        "2b179eea370743a3999ab859be247b3b": {
          "model_module": "@jupyter-widgets/controls",
          "model_module_version": "1.5.0",
          "model_name": "HBoxModel",
          "state": {
            "_dom_classes": [],
            "_model_module": "@jupyter-widgets/controls",
            "_model_module_version": "1.5.0",
            "_model_name": "HBoxModel",
            "_view_count": null,
            "_view_module": "@jupyter-widgets/controls",
            "_view_module_version": "1.5.0",
            "_view_name": "HBoxView",
            "box_style": "",
            "children": [
              "IPY_MODEL_c20eedfcdc244c6e87e501e54c3946c1",
              "IPY_MODEL_798cffcabc934904a699e1f95d033a92",
              "IPY_MODEL_25c95c1a580e401e9404c093b3ae9882"
            ],
            "layout": "IPY_MODEL_a22edd2dcd1e4bdaa1b2bea89d6990e4"
          }
        },
        "356572fa3c204e33b91db6d2c76fc907": {
          "model_module": "@jupyter-widgets/controls",
          "model_module_version": "1.5.0",
          "model_name": "DescriptionStyleModel",
          "state": {
            "_model_module": "@jupyter-widgets/controls",
            "_model_module_version": "1.5.0",
            "_model_name": "DescriptionStyleModel",
            "_view_count": null,
            "_view_module": "@jupyter-widgets/base",
            "_view_module_version": "1.2.0",
            "_view_name": "StyleView",
            "description_width": ""
          }
        },
        "4af2bd7fea8e43d5a4c4b265e3aa217f": {
          "model_module": "@jupyter-widgets/base",
          "model_module_version": "1.2.0",
          "model_name": "LayoutModel",
          "state": {
            "_model_module": "@jupyter-widgets/base",
            "_model_module_version": "1.2.0",
            "_model_name": "LayoutModel",
            "_view_count": null,
            "_view_module": "@jupyter-widgets/base",
            "_view_module_version": "1.2.0",
            "_view_name": "LayoutView",
            "align_content": null,
            "align_items": null,
            "align_self": null,
            "border": null,
            "bottom": null,
            "display": null,
            "flex": null,
            "flex_flow": null,
            "grid_area": null,
            "grid_auto_columns": null,
            "grid_auto_flow": null,
            "grid_auto_rows": null,
            "grid_column": null,
            "grid_gap": null,
            "grid_row": null,
            "grid_template_areas": null,
            "grid_template_columns": null,
            "grid_template_rows": null,
            "height": null,
            "justify_content": null,
            "justify_items": null,
            "left": null,
            "margin": null,
            "max_height": null,
            "max_width": null,
            "min_height": null,
            "min_width": null,
            "object_fit": null,
            "object_position": null,
            "order": null,
            "overflow": null,
            "overflow_x": null,
            "overflow_y": null,
            "padding": null,
            "right": null,
            "top": null,
            "visibility": null,
            "width": null
          }
        },
        "550adc3b350342ea8b96ad6255580b31": {
          "model_module": "@jupyter-widgets/controls",
          "model_module_version": "1.5.0",
          "model_name": "ProgressStyleModel",
          "state": {
            "_model_module": "@jupyter-widgets/controls",
            "_model_module_version": "1.5.0",
            "_model_name": "ProgressStyleModel",
            "_view_count": null,
            "_view_module": "@jupyter-widgets/base",
            "_view_module_version": "1.2.0",
            "_view_name": "StyleView",
            "bar_color": null,
            "description_width": ""
          }
        },
        "55eda0c810444e9faf6596d3599a35f5": {
          "model_module": "@jupyter-widgets/controls",
          "model_module_version": "1.5.0",
          "model_name": "ProgressStyleModel",
          "state": {
            "_model_module": "@jupyter-widgets/controls",
            "_model_module_version": "1.5.0",
            "_model_name": "ProgressStyleModel",
            "_view_count": null,
            "_view_module": "@jupyter-widgets/base",
            "_view_module_version": "1.2.0",
            "_view_name": "StyleView",
            "bar_color": null,
            "description_width": ""
          }
        },
        "68ab86ed0cb3449fbe62e3e39295a406": {
          "model_module": "@jupyter-widgets/base",
          "model_module_version": "1.2.0",
          "model_name": "LayoutModel",
          "state": {
            "_model_module": "@jupyter-widgets/base",
            "_model_module_version": "1.2.0",
            "_model_name": "LayoutModel",
            "_view_count": null,
            "_view_module": "@jupyter-widgets/base",
            "_view_module_version": "1.2.0",
            "_view_name": "LayoutView",
            "align_content": null,
            "align_items": null,
            "align_self": null,
            "border": null,
            "bottom": null,
            "display": null,
            "flex": null,
            "flex_flow": null,
            "grid_area": null,
            "grid_auto_columns": null,
            "grid_auto_flow": null,
            "grid_auto_rows": null,
            "grid_column": null,
            "grid_gap": null,
            "grid_row": null,
            "grid_template_areas": null,
            "grid_template_columns": null,
            "grid_template_rows": null,
            "height": null,
            "justify_content": null,
            "justify_items": null,
            "left": null,
            "margin": null,
            "max_height": null,
            "max_width": null,
            "min_height": null,
            "min_width": null,
            "object_fit": null,
            "object_position": null,
            "order": null,
            "overflow": null,
            "overflow_x": null,
            "overflow_y": null,
            "padding": null,
            "right": null,
            "top": null,
            "visibility": null,
            "width": null
          }
        },
        "795bfed9fd004c80b10499c7aa91ee43": {
          "model_module": "@jupyter-widgets/controls",
          "model_module_version": "1.5.0",
          "model_name": "HBoxModel",
          "state": {
            "_dom_classes": [],
            "_model_module": "@jupyter-widgets/controls",
            "_model_module_version": "1.5.0",
            "_model_name": "HBoxModel",
            "_view_count": null,
            "_view_module": "@jupyter-widgets/controls",
            "_view_module_version": "1.5.0",
            "_view_name": "HBoxView",
            "box_style": "",
            "children": [
              "IPY_MODEL_a8c11e4d3a314e0892c27b45cc0a27dc",
              "IPY_MODEL_9bdbc53a82fb408ab19beb08994976ce",
              "IPY_MODEL_cf8cdc7da11d4371a9a889227c2bb363"
            ],
            "layout": "IPY_MODEL_9fa673df3c6c4ca0b87385d6bd07e0c5"
          }
        },
        "798cffcabc934904a699e1f95d033a92": {
          "model_module": "@jupyter-widgets/controls",
          "model_module_version": "1.5.0",
          "model_name": "FloatProgressModel",
          "state": {
            "_dom_classes": [],
            "_model_module": "@jupyter-widgets/controls",
            "_model_module_version": "1.5.0",
            "_model_name": "FloatProgressModel",
            "_view_count": null,
            "_view_module": "@jupyter-widgets/controls",
            "_view_module_version": "1.5.0",
            "_view_name": "ProgressView",
            "bar_style": "",
            "description": "",
            "description_tooltip": null,
            "layout": "IPY_MODEL_4af2bd7fea8e43d5a4c4b265e3aa217f",
            "max": 1,
            "min": 0,
            "orientation": "horizontal",
            "style": "IPY_MODEL_55eda0c810444e9faf6596d3599a35f5",
            "value": 1
          }
        },
        "9bdbc53a82fb408ab19beb08994976ce": {
          "model_module": "@jupyter-widgets/controls",
          "model_module_version": "1.5.0",
          "model_name": "FloatProgressModel",
          "state": {
            "_dom_classes": [],
            "_model_module": "@jupyter-widgets/controls",
            "_model_module_version": "1.5.0",
            "_model_name": "FloatProgressModel",
            "_view_count": null,
            "_view_module": "@jupyter-widgets/controls",
            "_view_module_version": "1.5.0",
            "_view_name": "ProgressView",
            "bar_style": "",
            "description": "",
            "description_tooltip": null,
            "layout": "IPY_MODEL_b965d8ff3f604a168b05dc4706c0045a",
            "max": 1,
            "min": 0,
            "orientation": "horizontal",
            "style": "IPY_MODEL_550adc3b350342ea8b96ad6255580b31",
            "value": 1
          }
        },
        "9fa673df3c6c4ca0b87385d6bd07e0c5": {
          "model_module": "@jupyter-widgets/base",
          "model_module_version": "1.2.0",
          "model_name": "LayoutModel",
          "state": {
            "_model_module": "@jupyter-widgets/base",
            "_model_module_version": "1.2.0",
            "_model_name": "LayoutModel",
            "_view_count": null,
            "_view_module": "@jupyter-widgets/base",
            "_view_module_version": "1.2.0",
            "_view_name": "LayoutView",
            "align_content": null,
            "align_items": null,
            "align_self": null,
            "border": null,
            "bottom": null,
            "display": null,
            "flex": null,
            "flex_flow": null,
            "grid_area": null,
            "grid_auto_columns": null,
            "grid_auto_flow": null,
            "grid_auto_rows": null,
            "grid_column": null,
            "grid_gap": null,
            "grid_row": null,
            "grid_template_areas": null,
            "grid_template_columns": null,
            "grid_template_rows": null,
            "height": null,
            "justify_content": null,
            "justify_items": null,
            "left": null,
            "margin": null,
            "max_height": null,
            "max_width": null,
            "min_height": null,
            "min_width": null,
            "object_fit": null,
            "object_position": null,
            "order": null,
            "overflow": null,
            "overflow_x": null,
            "overflow_y": null,
            "padding": null,
            "right": null,
            "top": null,
            "visibility": "hidden",
            "width": null
          }
        },
        "a22edd2dcd1e4bdaa1b2bea89d6990e4": {
          "model_module": "@jupyter-widgets/base",
          "model_module_version": "1.2.0",
          "model_name": "LayoutModel",
          "state": {
            "_model_module": "@jupyter-widgets/base",
            "_model_module_version": "1.2.0",
            "_model_name": "LayoutModel",
            "_view_count": null,
            "_view_module": "@jupyter-widgets/base",
            "_view_module_version": "1.2.0",
            "_view_name": "LayoutView",
            "align_content": null,
            "align_items": null,
            "align_self": null,
            "border": null,
            "bottom": null,
            "display": null,
            "flex": null,
            "flex_flow": null,
            "grid_area": null,
            "grid_auto_columns": null,
            "grid_auto_flow": null,
            "grid_auto_rows": null,
            "grid_column": null,
            "grid_gap": null,
            "grid_row": null,
            "grid_template_areas": null,
            "grid_template_columns": null,
            "grid_template_rows": null,
            "height": null,
            "justify_content": null,
            "justify_items": null,
            "left": null,
            "margin": null,
            "max_height": null,
            "max_width": null,
            "min_height": null,
            "min_width": null,
            "object_fit": null,
            "object_position": null,
            "order": null,
            "overflow": null,
            "overflow_x": null,
            "overflow_y": null,
            "padding": null,
            "right": null,
            "top": null,
            "visibility": "hidden",
            "width": null
          }
        },
        "a34f0b35221f41dbbb519eac37d0dcfa": {
          "model_module": "@jupyter-widgets/base",
          "model_module_version": "1.2.0",
          "model_name": "LayoutModel",
          "state": {
            "_model_module": "@jupyter-widgets/base",
            "_model_module_version": "1.2.0",
            "_model_name": "LayoutModel",
            "_view_count": null,
            "_view_module": "@jupyter-widgets/base",
            "_view_module_version": "1.2.0",
            "_view_name": "LayoutView",
            "align_content": null,
            "align_items": null,
            "align_self": null,
            "border": null,
            "bottom": null,
            "display": null,
            "flex": null,
            "flex_flow": null,
            "grid_area": null,
            "grid_auto_columns": null,
            "grid_auto_flow": null,
            "grid_auto_rows": null,
            "grid_column": null,
            "grid_gap": null,
            "grid_row": null,
            "grid_template_areas": null,
            "grid_template_columns": null,
            "grid_template_rows": null,
            "height": null,
            "justify_content": null,
            "justify_items": null,
            "left": null,
            "margin": null,
            "max_height": null,
            "max_width": null,
            "min_height": null,
            "min_width": null,
            "object_fit": null,
            "object_position": null,
            "order": null,
            "overflow": null,
            "overflow_x": null,
            "overflow_y": null,
            "padding": null,
            "right": null,
            "top": null,
            "visibility": null,
            "width": null
          }
        },
        "a8c11e4d3a314e0892c27b45cc0a27dc": {
          "model_module": "@jupyter-widgets/controls",
          "model_module_version": "1.5.0",
          "model_name": "HTMLModel",
          "state": {
            "_dom_classes": [],
            "_model_module": "@jupyter-widgets/controls",
            "_model_module_version": "1.5.0",
            "_model_name": "HTMLModel",
            "_view_count": null,
            "_view_module": "@jupyter-widgets/controls",
            "_view_module_version": "1.5.0",
            "_view_name": "HTMLView",
            "description": "",
            "description_tooltip": null,
            "layout": "IPY_MODEL_a34f0b35221f41dbbb519eac37d0dcfa",
            "placeholder": "​",
            "style": "IPY_MODEL_356572fa3c204e33b91db6d2c76fc907",
            "value": "Computing widget examples:   0%"
          }
        },
        "b965d8ff3f604a168b05dc4706c0045a": {
          "model_module": "@jupyter-widgets/base",
          "model_module_version": "1.2.0",
          "model_name": "LayoutModel",
          "state": {
            "_model_module": "@jupyter-widgets/base",
            "_model_module_version": "1.2.0",
            "_model_name": "LayoutModel",
            "_view_count": null,
            "_view_module": "@jupyter-widgets/base",
            "_view_module_version": "1.2.0",
            "_view_name": "LayoutView",
            "align_content": null,
            "align_items": null,
            "align_self": null,
            "border": null,
            "bottom": null,
            "display": null,
            "flex": null,
            "flex_flow": null,
            "grid_area": null,
            "grid_auto_columns": null,
            "grid_auto_flow": null,
            "grid_auto_rows": null,
            "grid_column": null,
            "grid_gap": null,
            "grid_row": null,
            "grid_template_areas": null,
            "grid_template_columns": null,
            "grid_template_rows": null,
            "height": null,
            "justify_content": null,
            "justify_items": null,
            "left": null,
            "margin": null,
            "max_height": null,
            "max_width": null,
            "min_height": null,
            "min_width": null,
            "object_fit": null,
            "object_position": null,
            "order": null,
            "overflow": null,
            "overflow_x": null,
            "overflow_y": null,
            "padding": null,
            "right": null,
            "top": null,
            "visibility": null,
            "width": null
          }
        },
        "c20eedfcdc244c6e87e501e54c3946c1": {
          "model_module": "@jupyter-widgets/controls",
          "model_module_version": "1.5.0",
          "model_name": "HTMLModel",
          "state": {
            "_dom_classes": [],
            "_model_module": "@jupyter-widgets/controls",
            "_model_module_version": "1.5.0",
            "_model_name": "HTMLModel",
            "_view_count": null,
            "_view_module": "@jupyter-widgets/controls",
            "_view_module_version": "1.5.0",
            "_view_name": "HTMLView",
            "description": "",
            "description_tooltip": null,
            "layout": "IPY_MODEL_dca34ff3b1da4637871c69421c06d43c",
            "placeholder": "​",
            "style": "IPY_MODEL_1c903b2e77874ee9944ccbebc85705fd",
            "value": "Computing widget examples:   0%"
          }
        },
        "c770d3b8dd96410295d8ab000f434dc2": {
          "model_module": "@jupyter-widgets/controls",
          "model_module_version": "1.5.0",
          "model_name": "DescriptionStyleModel",
          "state": {
            "_model_module": "@jupyter-widgets/controls",
            "_model_module_version": "1.5.0",
            "_model_name": "DescriptionStyleModel",
            "_view_count": null,
            "_view_module": "@jupyter-widgets/base",
            "_view_module_version": "1.2.0",
            "_view_name": "StyleView",
            "description_width": ""
          }
        },
        "cf8cdc7da11d4371a9a889227c2bb363": {
          "model_module": "@jupyter-widgets/controls",
          "model_module_version": "1.5.0",
          "model_name": "HTMLModel",
          "state": {
            "_dom_classes": [],
            "_model_module": "@jupyter-widgets/controls",
            "_model_module_version": "1.5.0",
            "_model_name": "HTMLModel",
            "_view_count": null,
            "_view_module": "@jupyter-widgets/controls",
            "_view_module_version": "1.5.0",
            "_view_name": "HTMLView",
            "description": "",
            "description_tooltip": null,
            "layout": "IPY_MODEL_1f073810d5424baa95a1f814f9278bf6",
            "placeholder": "​",
            "style": "IPY_MODEL_c770d3b8dd96410295d8ab000f434dc2",
            "value": " 0/1 [00:00&lt;?, ?example/s]"
          }
        },
        "dca34ff3b1da4637871c69421c06d43c": {
          "model_module": "@jupyter-widgets/base",
          "model_module_version": "1.2.0",
          "model_name": "LayoutModel",
          "state": {
            "_model_module": "@jupyter-widgets/base",
            "_model_module_version": "1.2.0",
            "_model_name": "LayoutModel",
            "_view_count": null,
            "_view_module": "@jupyter-widgets/base",
            "_view_module_version": "1.2.0",
            "_view_name": "LayoutView",
            "align_content": null,
            "align_items": null,
            "align_self": null,
            "border": null,
            "bottom": null,
            "display": null,
            "flex": null,
            "flex_flow": null,
            "grid_area": null,
            "grid_auto_columns": null,
            "grid_auto_flow": null,
            "grid_auto_rows": null,
            "grid_column": null,
            "grid_gap": null,
            "grid_row": null,
            "grid_template_areas": null,
            "grid_template_columns": null,
            "grid_template_rows": null,
            "height": null,
            "justify_content": null,
            "justify_items": null,
            "left": null,
            "margin": null,
            "max_height": null,
            "max_width": null,
            "min_height": null,
            "min_width": null,
            "object_fit": null,
            "object_position": null,
            "order": null,
            "overflow": null,
            "overflow_x": null,
            "overflow_y": null,
            "padding": null,
            "right": null,
            "top": null,
            "visibility": null,
            "width": null
          }
        }
      }
    }
  },
  "nbformat": 4,
  "nbformat_minor": 0
}
